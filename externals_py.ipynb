{
  "nbformat": 4,
  "nbformat_minor": 0,
  "metadata": {
    "colab": {
      "provenance": [],
      "authorship_tag": "ABX9TyNJQqi8iNwkSy9GWXbpBOLc",
      "include_colab_link": true
    },
    "kernelspec": {
      "name": "python3",
      "display_name": "Python 3"
    },
    "language_info": {
      "name": "python"
    }
  },
  "cells": [
    {
      "cell_type": "markdown",
      "metadata": {
        "id": "view-in-github",
        "colab_type": "text"
      },
      "source": [
        "<a href=\"https://colab.research.google.com/github/mirayanali5/PythonLab1/blob/main/externals_py.ipynb\" target=\"_parent\"><img src=\"https://colab.research.google.com/assets/colab-badge.svg\" alt=\"Open In Colab\"/></a>"
      ]
    },
    {
      "cell_type": "code",
      "execution_count": null,
      "metadata": {
        "id": "yh-LaIVPtBSP",
        "colab": {
          "base_uri": "https://localhost:8080/"
        },
        "outputId": "0e50f73c-9afc-47f1-f46c-28f3b00d22ac"
      },
      "outputs": [
        {
          "output_type": "stream",
          "name": "stdout",
          "text": [
            "5 <class 'int'>\n",
            "5.5 <class 'float'>\n",
            "five <class 'str'>\n",
            "True <class 'bool'>\n",
            "1j <class 'complex'>\n"
          ]
        }
      ],
      "source": [
        "# Develop program to demonstrate different number datatypes in python\n",
        "x=5\n",
        "print(x,type(x))\n",
        "x=5.5\n",
        "print(x,type(x))\n",
        "x='five'\n",
        "print(x,type(x))\n",
        "x=True\n",
        "print(x,type(x))\n",
        "x=1j\n",
        "print(x,type(x))\n"
      ]
    },
    {
      "cell_type": "code",
      "source": [
        "#b) Write a python program to find the greatest of three numbers.\n",
        "a = float(input(\"Enter the first number: \"))\n",
        "b = float(input(\"Enter the second number: \"))\n",
        "c = float(input(\"Enter the third number: \"))\n",
        "\n",
        "if a >= b and a >= c:\n",
        "    greatest = a\n",
        "elif b >= a and b >= c:\n",
        "    greatest = b\n",
        "else:\n",
        "    greatest = c\n",
        "\n",
        "print(f\"The greatest number among {a}, {b}, and {c} is: {greatest}\")\n"
      ],
      "metadata": {
        "colab": {
          "base_uri": "https://localhost:8080/"
        },
        "id": "dK0kJqtb2uAW",
        "outputId": "0d706677-c5d2-4806-becc-ee12426889e6"
      },
      "execution_count": null,
      "outputs": [
        {
          "output_type": "stream",
          "name": "stdout",
          "text": [
            "Enter the first number: 5\n",
            "Enter the second number: 6\n",
            "Enter the third number: 7\n",
            "The greatest number among 5.0, 6.0, and 7.0 is: 7.0\n"
          ]
        }
      ]
    },
    {
      "cell_type": "code",
      "source": [
        "# Write a python program to generate multiplication table\n",
        "number = int(input(\"Enter a number for the multiplication table: \"))\n",
        "\n",
        "print(f\"Multiplication Table for {number}:\")\n",
        "\n",
        "for i in range(1, 11):\n",
        "    result = number * i\n",
        "    print(f\"{number} x {i} = {result}\")\n"
      ],
      "metadata": {
        "colab": {
          "base_uri": "https://localhost:8080/"
        },
        "id": "rYKnbvr53Lfl",
        "outputId": "0db0f9d7-fe0b-42b7-b67e-f625f5142beb"
      },
      "execution_count": null,
      "outputs": [
        {
          "output_type": "stream",
          "name": "stdout",
          "text": [
            "Enter a number for the multiplication table: 7\n",
            "Multiplication Table for 7:\n",
            "7 x 1 = 7\n",
            "7 x 2 = 14\n",
            "7 x 3 = 21\n",
            "7 x 4 = 28\n",
            "7 x 5 = 35\n",
            "7 x 6 = 42\n",
            "7 x 7 = 49\n",
            "7 x 8 = 56\n",
            "7 x 9 = 63\n",
            "7 x 10 = 70\n"
          ]
        }
      ]
    },
    {
      "cell_type": "code",
      "source": [
        "# Write a python program to find the factorial of number using non-recursive way.\n",
        "n = int(input(\"Enter a number: \"))\n",
        "\n",
        "fact = 1\n",
        "\n",
        "for i in range(1, n + 1):\n",
        "    fact *= i\n",
        "\n",
        "print(f\"The factorial of {n} is: {fact}\")\n"
      ],
      "metadata": {
        "colab": {
          "base_uri": "https://localhost:8080/"
        },
        "id": "xox938yS3hbP",
        "outputId": "cd03d8ac-cd32-4dc8-ab3c-2bcf2630c8f5"
      },
      "execution_count": null,
      "outputs": [
        {
          "output_type": "stream",
          "name": "stdout",
          "text": [
            "Enter a number: 9\n",
            "The factorial of 9 is: 362880\n"
          ]
        }
      ]
    },
    {
      "cell_type": "code",
      "source": [
        "#Write a python program to find the reverse of a number.\n",
        "num = int(input(\"Enter a number: \"))\n",
        "rev_num = 0\n",
        "original_num = num\n",
        "\n",
        "while num > 0:\n",
        "    digit = num % 10\n",
        "    rev_num = rev_num * 10 + digit\n",
        "    num = num // 10\n",
        "\n",
        "print(f\"The reverse of {original_num} is: {rev_num}\")\n"
      ],
      "metadata": {
        "colab": {
          "base_uri": "https://localhost:8080/"
        },
        "id": "H3wRVnfT3zup",
        "outputId": "7d1a087b-eed1-45ab-a299-ddf7cdb32fee"
      },
      "execution_count": null,
      "outputs": [
        {
          "output_type": "stream",
          "name": "stdout",
          "text": [
            "Enter a number: 12385743\n",
            "The reverse of 12385743 is: 34758321\n"
          ]
        }
      ]
    },
    {
      "cell_type": "code",
      "source": [
        "#Write a python program to create,write and read the file content and also delete the file.\n",
        "file = open('cse.txt', 'x')\n",
        "print('File created')\n",
        "file.close()\n",
        "\n",
        "file = open('cse.txt', 'w')\n",
        "content = 'This is sample content in the text file'\n",
        "file.write(content)\n",
        "file.close()\n",
        "\n",
        "file = open('cse.txt', 'r')\n",
        "print('Content of the file:\\n', file.read())\n",
        "file.close()\n",
        "\n",
        "import os # Interacts with Operating system for deletion\n",
        "if os.path.exists('cse.txt'):\n",
        "    os.remove('cse.txt')\n",
        "    print('File deleted successfully.')\n",
        "else:\n",
        "    print('File not found.')\n"
      ],
      "metadata": {
        "colab": {
          "base_uri": "https://localhost:8080/"
        },
        "id": "KYIaxctq4Nh3",
        "outputId": "d17dd77d-518a-432f-e438-9838d14a7a31"
      },
      "execution_count": null,
      "outputs": [
        {
          "output_type": "stream",
          "name": "stdout",
          "text": [
            "File created\n",
            "Content of the file:\n",
            " This is sample content in the text file\n",
            "File deleted successfully.\n"
          ]
        }
      ]
    },
    {
      "cell_type": "code",
      "source": [
        "#. a) Write a python program to find whether a given number is Armstrong or not.\n",
        "n = int(input(\"Enter a number to check if it's an Armstrong number: \"))\n",
        "s = 0\n",
        "temp = n\n",
        "while temp > 0:\n",
        "  digit = temp % 10\n",
        "  s += digit ** 3\n",
        "  temp //= 10\n",
        "if n == s:\n",
        "  print(n, \"is an Armstrong number\")\n",
        "else:\n",
        "  print(n, \"is not an Armstrong number\")"
      ],
      "metadata": {
        "colab": {
          "base_uri": "https://localhost:8080/"
        },
        "id": "k-SMJ5kQ4leX",
        "outputId": "1e9db5bf-ff56-44d1-f155-68dddbdc3fc3"
      },
      "execution_count": null,
      "outputs": [
        {
          "output_type": "stream",
          "name": "stdout",
          "text": [
            "Enter a number to check if it's an Armstrong number: 153\n",
            "153 is an Armstrong number\n"
          ]
        }
      ]
    },
    {
      "cell_type": "code",
      "source": [
        "#Write a python program to generate Fibonacci series\n",
        "n = int(input(\"Enter the number of terms for Fibonacci series: \"))\n",
        "a, b = 0, 1\n",
        "print (\"Fibbonacci Series :\",a,b, end=\" \" )\n",
        "for i in range (2,n):\n",
        "  c=a+b\n",
        "  a=b\n",
        "  b=c\n",
        "  print (c,end=\" \")\n"
      ],
      "metadata": {
        "colab": {
          "base_uri": "https://localhost:8080/"
        },
        "id": "JHExTQop5HLo",
        "outputId": "9ecc4643-747f-4849-99d7-8e863bd40760"
      },
      "execution_count": null,
      "outputs": [
        {
          "output_type": "stream",
          "name": "stdout",
          "text": [
            "Enter the number of terms for Fibonacci series: 7\n",
            "Fibbonacci Series : 0 1 1 2 3 5 8 "
          ]
        }
      ]
    },
    {
      "cell_type": "code",
      "source": [
        "# Write a python program to perform the following on the given string “Python Programming”\n",
        "# a. Find the length of the string\n",
        "# b. Display the string in reverse order\n",
        "# c. Find the index of “r‟\n",
        "# d.Swap the case\n",
        "string = \"Python Programming\"\n",
        "length = len(string)\n",
        "print(\"Length of the string:\", length)\n",
        "rev_str = string[::-1]\n",
        "print(\"Reversed string:\", rev_str)\n",
        "index_of_r = string.index('r')\n",
        "print(\"Index of 'r':\", index_of_r)\n",
        "swapped_case = string.swapcase()\n",
        "print(\"String with swapped case:\", swapped_case)"
      ],
      "metadata": {
        "colab": {
          "base_uri": "https://localhost:8080/"
        },
        "id": "ZDXEJvJM6-zH",
        "outputId": "c4834b3c-6c90-4508-fb89-ac23b4f9a3d5"
      },
      "execution_count": null,
      "outputs": [
        {
          "output_type": "stream",
          "name": "stdout",
          "text": [
            "Length of the string: 18\n",
            "Reversed string: gnimmargorP nohtyP\n",
            "Index of 'r': 8\n",
            "String with swapped case: pYTHON pROGRAMMING\n"
          ]
        }
      ]
    },
    {
      "cell_type": "code",
      "source": [
        "# Write a python program to implement single Inheritance\n",
        "class Parent:\n",
        "    def method_parent(self):\n",
        "        print(\"This is a method from the parent class.\")\n",
        "\n",
        "class Child(Parent):\n",
        "    def method_child(self):\n",
        "        print(\"This is a method from the child class.\")\n",
        "\n",
        "obj = Child()\n",
        "obj.method_parent()\n",
        "obj.method_child()\n"
      ],
      "metadata": {
        "colab": {
          "base_uri": "https://localhost:8080/"
        },
        "id": "ohEl8HQE7oAi",
        "outputId": "6365b4d8-e6a0-46d2-9d6d-1250a251db90"
      },
      "execution_count": null,
      "outputs": [
        {
          "output_type": "stream",
          "name": "stdout",
          "text": [
            "This is a method from the parent class.\n",
            "This is a method from the child class.\n"
          ]
        }
      ]
    },
    {
      "cell_type": "code",
      "source": [
        "# Write a python program to implement various string methods.\n",
        "s1 = \"hello world\"\n",
        "s2 = \"i am here\"\n",
        "print(\"Upper:\", s1.upper())\n",
        "print(\"Lower:\", s2.lower())\n",
        "print(\"Is Upper:\", s1.isupper())\n",
        "print(\"Is Lower:\", s2.islower())\n",
        "print(\"Title:\", s1.title())\n",
        "print(\"Capitalized:\", s2.capitalize())\n",
        "print(\"Swapcase:\", s1.swapcase())\n",
        "print(\"Starts With 'h':\", s1.startswith('h'))\n",
        "print(\"Ends With 'ld':\", s2.endswith('ld'))\n",
        "print(\"Replace 'o' with 'i':\", s1.replace('o', 'i'))\n",
        "print(\"Length of s1:\", len(s1))\n",
        "print(\"Concatenation:\", s1 + \" , \" + s2)"
      ],
      "metadata": {
        "colab": {
          "base_uri": "https://localhost:8080/"
        },
        "id": "6SLSzCU4-otg",
        "outputId": "549554ad-60c0-410b-b71d-42fd5dbb3e28"
      },
      "execution_count": null,
      "outputs": [
        {
          "output_type": "stream",
          "name": "stdout",
          "text": [
            "Upper: HELLO WORLD\n",
            "Lower: i am here\n",
            "Is Upper: False\n",
            "Is Lower: True\n",
            "Title: Hello World\n",
            "Capitalized: I am here\n",
            "Swapcase: HELLO WORLD\n",
            "Starts With 'h': True\n",
            "Ends With 'ld': False\n",
            "Replace 'o' with 'i': helli wirld\n",
            "Length of s1: 11\n",
            "Concatenation: hello world , i am here\n"
          ]
        }
      ]
    },
    {
      "cell_type": "code",
      "source": [
        "#Write a python program to implement Multiple Inheritance.\n",
        "class Parent1:\n",
        "    def method_parent1(self):\n",
        "        print(\"This is a method from the first parent class.\")\n",
        "\n",
        "class Parent2:\n",
        "    def method_parent2(self):\n",
        "        print(\"This is a method from the second parent class.\")\n",
        "\n",
        "class Child(Parent1, Parent2):\n",
        "    def method_child(self):\n",
        "        print(\"This is a method from the child class.\")\n",
        "\n",
        "obj = Child()\n",
        "obj.method_parent1()\n",
        "obj.method_parent2()\n",
        "obj.method_child()\n"
      ],
      "metadata": {
        "colab": {
          "base_uri": "https://localhost:8080/"
        },
        "id": "2sEVDJsT-1Bq",
        "outputId": "9cc6439e-2a2c-4673-d650-6c8b25bf24c0"
      },
      "execution_count": null,
      "outputs": [
        {
          "output_type": "stream",
          "name": "stdout",
          "text": [
            "This is a method from the first parent class.\n",
            "This is a method from the second parent class.\n",
            "This is a method from the child class.\n"
          ]
        }
      ]
    },
    {
      "cell_type": "code",
      "source": [
        "# Write a python program to handle the following\n",
        "# a. Zero division Error\n",
        "# b.Index Error\n",
        "# c.Assertion Error\n",
        "# d. ValueError\n",
        "# e.NameError\n",
        "def handle_errors():\n",
        "    try:\n",
        "        result = 10 / 0\n",
        "    except ZeroDivisionError:\n",
        "        print(\"Caught ZeroDivisionError: Cannot divide by zero\")\n",
        "def handle_errors2():\n",
        "    try:\n",
        "        my_list = [1, 2, 3]\n",
        "        value = my_list[5]\n",
        "    except IndexError:\n",
        "        print(\"Caught IndexError: Index out of range\")\n",
        "def handle_errors3():\n",
        "    try:\n",
        "        assert 2 + 2 == 5, \"This assertion will always fail\"\n",
        "    except AssertionError as e:\n",
        "        print(f\"Caught AssertionError: {e}\")\n",
        "def handle_errors4():\n",
        "    try:\n",
        "        int_value = int(\"abc\")\n",
        "    except ValueError:\n",
        "        print(\"Caught ValueError: Invalid conversion to int\")\n",
        "def handle_errors5():\n",
        "    try:\n",
        "        undefined_variable = az()\n",
        "    except NameError:\n",
        "        print(\"Caught NameError: Variable or function is not defined\")\n",
        "\n",
        "if __name__ == \"__main__\":\n",
        "    handle_errors()\n",
        "    handle_errors2()\n",
        "    handle_errors3()\n",
        "    handle_errors4()\n",
        "    handle_errors5()"
      ],
      "metadata": {
        "colab": {
          "base_uri": "https://localhost:8080/"
        },
        "id": "hHMXfm2Y_BYf",
        "outputId": "c0258620-a962-4741-fc2e-34b4a04ffad8"
      },
      "execution_count": null,
      "outputs": [
        {
          "output_type": "stream",
          "name": "stdout",
          "text": [
            "Caught ZeroDivisionError: Cannot divide by zero\n",
            "Caught IndexError: Index out of range\n",
            "Caught AssertionError: This assertion will always fail\n",
            "Caught ValueError: Invalid conversion to int\n",
            "Caught NameError: Variable or function is not defined\n"
          ]
        }
      ]
    },
    {
      "cell_type": "code",
      "source": [
        "#Write a python program to create user defined exceptions\n",
        "class Attend(Exception):\n",
        "  def __init__(self,message):\n",
        "    Exception.__init__(self,message)\n",
        "  def attp(self,h,at):\n",
        "    try:\n",
        "      per = (at/h)*100\n",
        "      if per<75:\n",
        "        raise Attend(f\"You have less attendance {per}\")\n",
        "      else:\n",
        "        print(\"Good\")\n",
        "    except Attend as ae:\n",
        "      print(ae)\n",
        "try :\n",
        "  a = Attend(\"Your Attendance percentage is \")\n",
        "  a.attp(1,2)\n",
        "except Attend as ae:\n",
        "  print(ae)\n"
      ],
      "metadata": {
        "colab": {
          "base_uri": "https://localhost:8080/"
        },
        "id": "zoQRr4sz_m10",
        "outputId": "43f64d21-8f5f-411e-9633-5acaee62d0a8"
      },
      "execution_count": null,
      "outputs": [
        {
          "output_type": "stream",
          "name": "stdout",
          "text": [
            "Good\n"
          ]
        }
      ]
    },
    {
      "cell_type": "code",
      "source": [
        "#Write a python program to implement ZeroDivisionEror use else and finally block?\n",
        "def div(a , b):\n",
        "  try:\n",
        "    c = a/b\n",
        "  except ZeroDivisionError:\n",
        "    print (\"a/b result in 0\")\n",
        "  else:\n",
        "    print ('Result is : ',c)\n",
        "  finally:\n",
        "    print('Division performed')\n",
        "div(2, 3)\n",
        "div(3, 0)"
      ],
      "metadata": {
        "colab": {
          "base_uri": "https://localhost:8080/"
        },
        "id": "ECrrSVRYCLIp",
        "outputId": "382d96cc-b5d5-4eb0-87aa-ecb6c33bdc03"
      },
      "execution_count": null,
      "outputs": [
        {
          "output_type": "stream",
          "name": "stdout",
          "text": [
            "Result is :  0.6666666666666666\n",
            "Division performed\n",
            "a/b result in 0\n",
            "Division performed\n"
          ]
        }
      ]
    },
    {
      "cell_type": "code",
      "source": [
        "#Write a python program to implement abstraction.\n",
        "from abc import  ABC,abstractmethod\n",
        "class shape(ABC):\n",
        "  @abstractmethod\n",
        "  def sides(self,side):\n",
        "    pass\n",
        "class triangle(shape):\n",
        "  def sides(Self,side):\n",
        "    print(f\"Triangle has {side} sides\")\n",
        "class square(shape):\n",
        "  def sides(Self,side):\n",
        "    print(f\"Square has {side} sides\")\n",
        "t1=triangle()\n",
        "t1.sides(3)\n",
        "s1=square()\n",
        "s1.sides(4)"
      ],
      "metadata": {
        "colab": {
          "base_uri": "https://localhost:8080/"
        },
        "id": "Of38JpIyCaJi",
        "outputId": "ccf6dd54-a89d-4e1b-922f-7feea35891a0"
      },
      "execution_count": null,
      "outputs": [
        {
          "output_type": "stream",
          "name": "stdout",
          "text": [
            "Triangle has 3 sides\n",
            "Square has 4 sides\n"
          ]
        }
      ]
    },
    {
      "cell_type": "code",
      "source": [
        "#Write a python program to implement all the list operations.\n",
        "\n",
        "# Creating a list\n",
        "my_list = [1, 2, 3, 4, 5]\n",
        "print(\"Original List:\", my_list)\n",
        "\n",
        "# Appending an element\n",
        "my_list.append(6)\n",
        "print(\"List after appending 6:\", my_list)\n",
        "\n",
        "# Accessing elements by index\n",
        "print(\"Element at index 2:\", my_list[2])\n",
        "\n",
        "# Slicing the list\n",
        "sliced_list = my_list[1:4]\n",
        "print(\"Sliced List:\", sliced_list)\n",
        "\n",
        "# Length of the list\n",
        "list_length = len(my_list)\n",
        "print(\"Length of the list:\", list_length)\n",
        "\n",
        "# Checking if an element is in the list\n",
        "is_present = 4 in my_list\n",
        "print(\"Is 4 present in the list?\", is_present)\n",
        "\n",
        "# Modifying an element by index\n",
        "my_list[0] = 10\n",
        "print(\"List after modifying element at index 0:\", my_list)\n",
        "\n",
        "# Removing an element by value\n",
        "my_list.remove(5)\n",
        "print(\"List after removing 5:\", my_list)\n",
        "\n",
        "# Pop an element by index\n",
        "popped_element = my_list.pop(2)\n",
        "print(\"List after popping element at index 2:\", my_list)\n",
        "print(\"Popped Element:\", popped_element)\n",
        "\n",
        "# Concatenating two lists\n",
        "another_list = [7, 8, 9]\n",
        "combined_list = my_list + another_list\n",
        "print(\"Combined List:\", combined_list)\n",
        "\n",
        "# Reversing the list\n",
        "my_list.reverse()\n",
        "print(\"Reversed List:\", my_list)\n"
      ],
      "metadata": {
        "colab": {
          "base_uri": "https://localhost:8080/"
        },
        "id": "zrTQUDBtEUDT",
        "outputId": "1f1bbe44-7654-4fe0-85ec-8cb6c1d70314"
      },
      "execution_count": null,
      "outputs": [
        {
          "output_type": "stream",
          "name": "stdout",
          "text": [
            "Original List: [1, 2, 3, 4, 5]\n",
            "List after appending 6: [1, 2, 3, 4, 5, 6]\n",
            "Element at index 2: 3\n",
            "Sliced List: [2, 3, 4]\n",
            "Length of the list: 6\n",
            "Is 4 present in the list? True\n",
            "List after modifying element at index 0: [10, 2, 3, 4, 5, 6]\n",
            "List after removing 5: [10, 2, 3, 4, 6]\n",
            "List after popping element at index 2: [10, 2, 4, 6]\n",
            "Popped Element: 3\n",
            "Combined List: [10, 2, 4, 6, 7, 8, 9]\n",
            "Reversed List: [6, 4, 2, 10]\n"
          ]
        }
      ]
    },
    {
      "cell_type": "code",
      "source": [
        "# Write a python program to implement keyword arguments.\n",
        "\n",
        "def add(**kwargs):\n",
        "\n",
        "  s=0\n",
        "\n",
        "  for v in kwargs.values():\n",
        "\n",
        "      s=s+v\n",
        "\n",
        "  print(s)\n",
        "\n",
        "add(a=2,c=3,d=9)\n",
        "\n",
        "add(a=3, b=4)\n"
      ],
      "metadata": {
        "id": "ZZgxNHhFE0sq",
        "colab": {
          "base_uri": "https://localhost:8080/"
        },
        "outputId": "22086f0a-4be3-4f8a-ca9d-bb34c4768d2e"
      },
      "execution_count": null,
      "outputs": [
        {
          "output_type": "stream",
          "name": "stdout",
          "text": [
            "14\n",
            "7\n"
          ]
        }
      ]
    },
    {
      "cell_type": "code",
      "source": [
        "#Write a python program to implement var args.\n",
        "class Add:\n",
        "  def add(self, a, b, c=None, d=None, e=None):\n",
        "    res=a+b\n",
        "    if c!=None:\n",
        "      res+=c\n",
        "    if d!= None:\n",
        "      res+=d\n",
        "    if e!= None:\n",
        "      res+=e\n",
        "    print(\"res\", res)\n",
        "a=Add()\n",
        "a.add(2,3)\n",
        "a.add(3,4,5)\n",
        "a.add(4,5,6,7)\n",
        "a.add(4,5,6,7,8)\n"
      ],
      "metadata": {
        "colab": {
          "base_uri": "https://localhost:8080/"
        },
        "id": "X8G5StH9F6HJ",
        "outputId": "a4d4e4f1-8a2e-4e1e-c4e5-7210da46022c"
      },
      "execution_count": null,
      "outputs": [
        {
          "output_type": "stream",
          "name": "stdout",
          "text": [
            "res 5\n",
            "res 12\n",
            "res 22\n",
            "res 30\n"
          ]
        }
      ]
    },
    {
      "cell_type": "code",
      "source": [
        "#Write a python program to implement all the set operations\n",
        "# Creating sets\n",
        "set1 = {1, 2, 3, 4, 5}\n",
        "set2 = {4, 5, 6, 7, 8}\n",
        "print(\"Set 1:\", set1)\n",
        "print(\"Set 2:\", set2)\n",
        "\n",
        "# Union of sets\n",
        "union_set = set1.union(set2)\n",
        "print(\"Union of Set 1 and Set 2:\", union_set)\n",
        "\n",
        "# Intersection of sets\n",
        "intersection_set = set1.intersection(set2)\n",
        "print(\"Intersection of Set 1 and Set 2:\", intersection_set)\n",
        "\n",
        "# Difference of sets\n",
        "difference_set = set1.difference(set2)\n",
        "print(\"Difference of Set 1 and Set 2:\", difference_set)\n",
        "\n",
        "# Symmetric difference of sets\n",
        "symmetric_difference_set = set1.symmetric_difference(set2)\n",
        "print(\"Symmetric Difference of Set 1 and Set 2:\", symmetric_difference_set)\n",
        "\n",
        "# Adding an element to a set\n",
        "set1.add(6)\n",
        "print(\"Set 1 after adding element 6:\", set1)\n",
        "\n",
        "# Removing an element from a set\n",
        "set2.remove(6)\n",
        "print(\"Set 2 after removing element 6:\", set2)\n",
        "\n",
        "# Checking if a set is a subset of another set\n",
        "is_subset = set1.issubset(set2)\n",
        "print(\"Is Set 1 a subset of Set 2?\", is_subset)\n",
        "\n",
        "# Checking if a set is a superset of another set\n",
        "#Superset : All elements of set B are contained within set A\n",
        "is_superset = set1.issuperset(set2)\n",
        "print(\"Is Set 1 a superset of Set 2?\", is_superset)\n",
        "\n",
        "# Clearing a set\n",
        "set1.clear()\n",
        "print(\"Set 1 after clearing:\", set1)\n"
      ],
      "metadata": {
        "colab": {
          "base_uri": "https://localhost:8080/"
        },
        "id": "6bUZVbybF67_",
        "outputId": "dda81690-0fba-4c92-c1fd-b7aff61f5d7a"
      },
      "execution_count": null,
      "outputs": [
        {
          "output_type": "stream",
          "name": "stdout",
          "text": [
            "Set 1: {1, 2, 3, 4, 5}\n",
            "Set 2: {4, 5, 6, 7, 8}\n",
            "Union of Set 1 and Set 2: {1, 2, 3, 4, 5, 6, 7, 8}\n",
            "Intersection of Set 1 and Set 2: {4, 5}\n",
            "Difference of Set 1 and Set 2: {1, 2, 3}\n",
            "Symmetric Difference of Set 1 and Set 2: {1, 2, 3, 6, 7, 8}\n",
            "Set 1 after adding element 6: {1, 2, 3, 4, 5, 6}\n",
            "Set 2 after removing element 6: {4, 5, 7, 8}\n",
            "Is Set 1 a subset of Set 2? False\n",
            "Is Set 1 a superset of Set 2? False\n",
            "Set 1 after clearing: set()\n"
          ]
        }
      ]
    },
    {
      "cell_type": "code",
      "source": [
        "#Write a python program to implement all the tuples operations.\n",
        "# Creating a tuple\n",
        "my_tuple = (1, 2, 3, 4, 5)\n",
        "print(\"Original Tuple:\", my_tuple)\n",
        "\n",
        "# Accessing elements by index\n",
        "element_at_index_2 = my_tuple[2]\n",
        "print(\"Element at index 2:\", element_at_index_2)\n",
        "\n",
        "# Slicing the tuple\n",
        "sliced_tuple = my_tuple[1:4]\n",
        "print(\"Sliced Tuple:\", sliced_tuple)\n",
        "\n",
        "# Concatenating tuples\n",
        "another_tuple = (6, 7, 8)\n",
        "concatenated_tuple = my_tuple + another_tuple\n",
        "print(\"Concatenated Tuple:\", concatenated_tuple)\n",
        "\n",
        "# Finding the length of the tuple\n",
        "tuple_length = len(my_tuple)\n",
        "print(\"Length of the Tuple:\", tuple_length)\n",
        "\n",
        "# Checking if an element is in the tuple\n",
        "is_present = 4 in my_tuple\n",
        "print(\"Is 4 present in the Tuple?\", is_present)\n",
        "\n",
        "# Count occurrences of an element\n",
        "count_of_4 = my_tuple.count(4)\n",
        "print(\"Count of occurrences of element 4:\", count_of_4)\n",
        "\n",
        "# Finding the index of an element\n",
        "index_of_3 = my_tuple.index(3)\n",
        "print(\"Index of element 3:\", index_of_3)\n",
        "\n",
        "# Converting a tuple to a list\n",
        "tuple_as_list = list(my_tuple)\n",
        "print(\"Tuple converted to a list:\", tuple_as_list)\n",
        "\n",
        "# Converting a list back to a tuple\n",
        "list_as_tuple = tuple(tuple_as_list)\n",
        "print(\"List converted back to a tuple:\", list_as_tuple)\n"
      ],
      "metadata": {
        "colab": {
          "base_uri": "https://localhost:8080/"
        },
        "id": "96ro0oCTGtJd",
        "outputId": "82e9f57c-46d6-4093-887a-cefb1b5e5a4f"
      },
      "execution_count": null,
      "outputs": [
        {
          "output_type": "stream",
          "name": "stdout",
          "text": [
            "Original Tuple: (1, 2, 3, 4, 5)\n",
            "Element at index 2: 3\n",
            "Sliced Tuple: (2, 3, 4)\n",
            "Concatenated Tuple: (1, 2, 3, 4, 5, 6, 7, 8)\n",
            "Length of the Tuple: 5\n",
            "Is 4 present in the Tuple? True\n",
            "Count of occurrences of element 4: 1\n",
            "Index of element 3: 2\n",
            "Tuple converted to a list: [1, 2, 3, 4, 5]\n",
            "List converted back to a tuple: (1, 2, 3, 4, 5)\n"
          ]
        }
      ]
    },
    {
      "cell_type": "code",
      "source": [
        "#Write a python program to implement all the dictionary operations.\n",
        "\n",
        "# Creating a dictionary\n",
        "my_dict = {'name': 'John', 'age': 25, 'city': 'New York'}\n",
        "print(\"Original Dictionary:\", my_dict)\n",
        "\n",
        "# Accessing values by key\n",
        "age = my_dict['age']\n",
        "print(\"Age:\", age)\n",
        "\n",
        "# Modifying a value by key\n",
        "my_dict['age'] = 26\n",
        "print(\"Modified Dictionary:\", my_dict)\n",
        "\n",
        "# Adding a new key-value pair\n",
        "my_dict['gender'] = 'Male'\n",
        "print(\"Dictionary after adding gender:\", my_dict)\n",
        "\n",
        "# Removing a key-value pair\n",
        "removed_value = my_dict.pop('city')\n",
        "print(\"Dictionary after removing city:\", my_dict)\n",
        "print(\"Removed City:\", removed_value)\n",
        "\n",
        "# Checking if a key is in the dictionary\n",
        "is_present = 'name' in my_dict\n",
        "print(\"Is 'name' present in the Dictionary?\", is_present)\n",
        "\n",
        "# Getting all keys\n",
        "keys = my_dict.keys()\n",
        "print(\"All Keys in the Dictionary:\", keys)\n",
        "\n",
        "# Getting all values\n",
        "values = my_dict.values()\n",
        "print(\"All Values in the Dictionary:\", values)\n",
        "\n",
        "# Getting all key-value pairs as tuples\n",
        "items = my_dict.items()\n",
        "print(\"All Items in the Dictionary:\", items)\n",
        "\n",
        "# Clearing the dictionary\n",
        "my_dict.clear()\n",
        "print(\"Dictionary after clearing:\", my_dict)\n"
      ],
      "metadata": {
        "colab": {
          "base_uri": "https://localhost:8080/"
        },
        "id": "G80_xyGpHwgX",
        "outputId": "c27d5af6-14eb-4632-9e90-73df424a633b"
      },
      "execution_count": null,
      "outputs": [
        {
          "output_type": "stream",
          "name": "stdout",
          "text": [
            "Original Dictionary: {'name': 'John', 'age': 25, 'city': 'New York'}\n",
            "Age: 25\n",
            "Modified Dictionary: {'name': 'John', 'age': 26, 'city': 'New York'}\n",
            "Dictionary after adding gender: {'name': 'John', 'age': 26, 'city': 'New York', 'gender': 'Male'}\n",
            "Dictionary after removing city: {'name': 'John', 'age': 26, 'gender': 'Male'}\n",
            "Removed City: New York\n",
            "Is 'name' present in the Dictionary? True\n",
            "All Keys in the Dictionary: dict_keys(['name', 'age', 'gender'])\n",
            "All Values in the Dictionary: dict_values(['John', 26, 'Male'])\n",
            "All Items in the Dictionary: dict_items([('name', 'John'), ('age', 26), ('gender', 'Male')])\n",
            "Dictionary after clearing: {}\n"
          ]
        }
      ]
    },
    {
      "cell_type": "code",
      "source": [
        "#Write a turtle program to Display the letter S.\n",
        "import turtle\n",
        "turtle.penup()\n",
        "turtle.goto(-50, 0)  # Starting position\n",
        "turtle.pendown()\n",
        "turtle.forward(100)\n",
        "turtle.circle(-50, 180)\n",
        "turtle.forward(100)\n",
        "turtle.penup()\n",
        "turtle.goto(0, 0)  # Reset position\n",
        "turtle.pendown()\n",
        "turtle.penup()\n",
        "turtle.goto(50, 0)  # Starting position\n",
        "turtle.pendown()\n",
        "turtle.forward(100)\n",
        "turtle.circle(-50, 180)\n",
        "turtle.forward(100)\n",
        "turtle.done()\n"
      ],
      "metadata": {
        "id": "ucGDMX3_INGj"
      },
      "execution_count": null,
      "outputs": []
    },
    {
      "cell_type": "code",
      "source": [
        "# SQUARE\n",
        "import turtle\n",
        "for _ in range(4):\n",
        "    turtle.forward(100)\n",
        "    turtle.right(90)\n",
        "turtle.done()"
      ],
      "metadata": {
        "id": "sBkrGWqhKR79"
      },
      "execution_count": null,
      "outputs": []
    },
    {
      "cell_type": "code",
      "source": [
        "#Triangle\n",
        "import turtle\n",
        "for _ in range(3):\n",
        "    turtle.forward(100)\n",
        "    turtle.left(120)\n",
        "turtle.done()\n"
      ],
      "metadata": {
        "id": "_a10n74PLHeX"
      },
      "execution_count": null,
      "outputs": []
    },
    {
      "cell_type": "code",
      "source": [
        "# Write a python program to perform multilevel inheritance.\n",
        "class Grandparent:\n",
        "    def method_grandparent(self):\n",
        "        print(\"This is a method from the grandparent class.\")\n",
        "\n",
        "class Parent(Grandparent):\n",
        "    def method_parent(self):\n",
        "        print(\"This is a method from the parent class.\")\n",
        "\n",
        "class Child(Parent):\n",
        "    def method_child(self):\n",
        "        print(\"This is a method from the child class.\")\n",
        "\n",
        "obj = Child()\n",
        "obj.method_grandparent()\n",
        "obj.method_parent()\n",
        "obj.method_child()\n"
      ],
      "metadata": {
        "colab": {
          "base_uri": "https://localhost:8080/"
        },
        "id": "0jpHy1dgLi1C",
        "outputId": "8c5f6a28-2563-4f73-e438-0afc3858b8f1"
      },
      "execution_count": null,
      "outputs": [
        {
          "output_type": "stream",
          "name": "stdout",
          "text": [
            "This is a method from the grandparent class.\n",
            "This is a method from the parent class.\n",
            "This is a method from the child class.\n"
          ]
        }
      ]
    },
    {
      "cell_type": "code",
      "source": [
        "# Write a function to implement list mutability.\n",
        "def modify_list(my_list):\n",
        "    print(\"Original List:\", my_list)\n",
        "    my_list[0] = 10\n",
        "    my_list.append(6)\n",
        "    my_list.extend([7, 8])\n",
        "    print(\"Modified List:\", my_list)\n",
        "original_list = [1, 2, 3, 4, 5]\n",
        "modify_list(original_list)\n",
        "print(\"Original List after Function Call:\", original_list)\n"
      ],
      "metadata": {
        "colab": {
          "base_uri": "https://localhost:8080/"
        },
        "id": "sHDjLh-6LsHc",
        "outputId": "0ecedbe4-db5d-4791-fe27-6d2616824c4f"
      },
      "execution_count": null,
      "outputs": [
        {
          "output_type": "stream",
          "name": "stdout",
          "text": [
            "Original List: [1, 2, 3, 4, 5]\n",
            "Modified List: [10, 2, 3, 4, 5, 6, 7, 8]\n",
            "Original List after Function Call: [10, 2, 3, 4, 5, 6, 7, 8]\n"
          ]
        }
      ]
    },
    {
      "cell_type": "code",
      "source": [
        "# Write a python program to implement the following using turtle\n",
        "# a) forward\n",
        "import turtle\n",
        "my_turtle = turtle.Turtle()\n",
        "my_turtle.forward(100)\n",
        "turtle.done()\n",
        "\n",
        "#backward\n",
        "import turtle\n",
        "my_turtle = turtle.Turtle()\n",
        "my_turtle.backward(100)\n",
        "turtle.done()\n",
        "\n",
        "#left\n",
        "import turtle\n",
        "my_turtle = turtle.Turtle()\n",
        "my_turtle.forward(-50)\n",
        "my_turtle.left(90)\n",
        "turtle.done()\n",
        "\n",
        "#right\n",
        "import turtle\n",
        "my_turtle = turtle.Turtle()\n",
        "my_turtle.forward(50)\n",
        "my_turtle.right(90)\n",
        "turtle.done()\n",
        "\n"
      ],
      "metadata": {
        "id": "D2hnovt7L9Gt"
      },
      "execution_count": null,
      "outputs": []
    },
    {
      "cell_type": "code",
      "source": [
        "#Find the area of circle using default arguments.\n",
        "def calculate_circle_area(radius=1):\n",
        "    area = 3.14 * radius ** 2\n",
        "    return area\n",
        "radius1 = int(input(\"Enter the radius of circle :\"))\n",
        "area1 = calculate_circle_area(radius1)\n",
        "print(f\"Area of a circle with radius {radius1} is: {area1}\")\n",
        "\n",
        "area2 = calculate_circle_area() #default\n",
        "print(f\"Area of a circle with default radius is: {area2}\")\n"
      ],
      "metadata": {
        "colab": {
          "base_uri": "https://localhost:8080/"
        },
        "id": "qzyv1VSgOerB",
        "outputId": "4a7c8b03-3c7c-4f3f-946e-c289caa19bd9"
      },
      "execution_count": null,
      "outputs": [
        {
          "output_type": "stream",
          "name": "stdout",
          "text": [
            "Enter the radius of circle :5\n",
            "Area of a circle with radius 5 is: 78.5\n",
            "Area of a circle with default radius is: 3.14\n"
          ]
        }
      ]
    },
    {
      "cell_type": "code",
      "source": [
        "#Create a class shape and implement method overriding for the following Triangle,Rectangle, Square.\n",
        "class Shape:\n",
        "    def calculate_area(self):\n",
        "        pass\n",
        "\n",
        "class Triangle(Shape):\n",
        "    def __init__(self, base, height):\n",
        "        self.base = base\n",
        "        self.height = height\n",
        "\n",
        "    def calculate_area(self):\n",
        "        return 0.5 * self.base * self.height\n",
        "\n",
        "class Rectangle(Shape):\n",
        "    def __init__(self, length, width):\n",
        "        self.length = length\n",
        "        self.width = width\n",
        "\n",
        "    def calculate_area(self):\n",
        "        return self.length * self.width\n",
        "\n",
        "class Square(Shape):\n",
        "    def __init__(self, side):\n",
        "        self.side = side\n",
        "\n",
        "    def calculate_area(self):\n",
        "        return self.side ** 2\n",
        "\n",
        "triangle_obj = Triangle(5, 8)\n",
        "print(\"Area of Triangle:\", triangle_obj.calculate_area())\n",
        "\n",
        "rectangle_obj = Rectangle(4, 6)\n",
        "print(\"Area of Rectangle:\", rectangle_obj.calculate_area())\n",
        "\n",
        "square_obj = Square(3)\n",
        "print(\"Area of Square:\", square_obj.calculate_area())\n"
      ],
      "metadata": {
        "colab": {
          "base_uri": "https://localhost:8080/"
        },
        "id": "8llQT34bOqz_",
        "outputId": "c0de86fb-4918-493d-da6d-9499c4f91cb6"
      },
      "execution_count": null,
      "outputs": [
        {
          "output_type": "stream",
          "name": "stdout",
          "text": [
            "Area of Triangle: 20.0\n",
            "Area of Rectangle: 24\n",
            "Area of Square: 9\n"
          ]
        }
      ]
    },
    {
      "cell_type": "code",
      "source": [
        "# Write a python program to perform breadth first search\n",
        "graph = {\n",
        "  'P' : ['Q','R','S'],\n",
        "  'Q' : ['P', 'R'],\n",
        "  'R' : ['P','Q','T'],\n",
        "  'T' : ['R'],\n",
        "  'S' : ['P'],\n",
        "}\n",
        "visited = [] # List to keep track of visited nodes.\n",
        "queue = [] #Initialize a queue-keeps track of nodes currently in the queue\n",
        "def bfs(visited, graph, node):\n",
        "  visited.append(node)\n",
        "  queue.append(node)\n",
        "  while queue:\n",
        "    s = queue.pop(0)\n",
        "    print (s, end = \" \")\n",
        "    for neighbour in graph[s]:\n",
        "      #print(neighbour)\n",
        "      if neighbour not in visited:\n",
        "        visited.append(neighbour)\n",
        "        queue.append(neighbour)\n",
        "bfs(visited, graph, 'P')"
      ],
      "metadata": {
        "colab": {
          "base_uri": "https://localhost:8080/"
        },
        "id": "klSFSPdDPyqy",
        "outputId": "d1e9e2d2-95fd-4b3b-8e24-bbe8c9f6fc4f"
      },
      "execution_count": null,
      "outputs": [
        {
          "output_type": "stream",
          "name": "stdout",
          "text": [
            "P Q R S T "
          ]
        }
      ]
    },
    {
      "cell_type": "code",
      "source": [],
      "metadata": {
        "id": "47FXU7uZTEjz"
      },
      "execution_count": null,
      "outputs": []
    }
  ]
}